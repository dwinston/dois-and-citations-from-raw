{
 "cells": [
  {
   "cell_type": "markdown",
   "metadata": {},
   "source": [
    "### Get DOIs and Citations\n",
    "Given a file of raw \"citations\" (i.e., they need not be properly formatted), with one blank line separating each,\n",
    "\n",
    "1. query the CrossRef API to match a DOI to each \"citation\",\n",
    "2. allow inspection of match results and manual assignment of DOIs,\n",
    "3. add verified DOIs to a stored set (e.g. \"center\" DOIs vs. \"user\" DOIs), and\n",
    "4. add to / update a set-specific file of properly-formatted citations"
   ]
  },
  {
   "cell_type": "markdown",
   "metadata": {},
   "source": [
    "#### Pull in citations"
   ]
  },
  {
   "cell_type": "code",
   "execution_count": null,
   "metadata": {
    "collapsed": true
   },
   "outputs": [],
   "source": [
    "# 'center' for publications from MP center,\n",
    "# 'users' for publications from MP users.     \n",
    "\n",
    "CITATION_SET = 'user'\n",
    "dois = set()"
   ]
  },
  {
   "cell_type": "code",
   "execution_count": null,
   "metadata": {
    "collapsed": false
   },
   "outputs": [],
   "source": [
    "# Grab raw citations and store as array of strings\n",
    "\n",
    "RAW_CITATIONS_FNAME = 'raw-citations-user-1.txt'\n",
    "raw_citations = []\n",
    "with open(RAW_CITATIONS_FNAME) as f:\n",
    "    citation = \"\"\n",
    "    for line in f:\n",
    "        if line.strip():\n",
    "            # Add line to current citation\n",
    "            citation += line.strip() + \" \"\n",
    "        elif citation:\n",
    "            # Save citation and start reading new one\n",
    "            raw_citations.append(citation)\n",
    "            citation = \"\""
   ]
  },
  {
   "cell_type": "markdown",
   "metadata": {},
   "source": [
    "#### Query the CrossRef API for DOIs"
   ]
  },
  {
   "cell_type": "code",
   "execution_count": null,
   "metadata": {
    "collapsed": false
   },
   "outputs": [],
   "source": [
    "# Query the CrossRef API to match a DOI to each raw citation\n",
    "# Shouldn't take more than ~10 s\n",
    "\n",
    "import json\n",
    "import requests\n",
    "r = requests.post(\"http://search.crossref.org/links\",\n",
    "                         data=json.dumps(raw_citations))\n",
    "response = json.loads(r.text)"
   ]
  },
  {
   "cell_type": "markdown",
   "metadata": {},
   "source": [
    "#### Inspect results, add DOIs as desired"
   ]
  },
  {
   "cell_type": "code",
   "execution_count": null,
   "metadata": {
    "collapsed": false
   },
   "outputs": [],
   "source": [
    "# Allow inspection of match results\n",
    "\n",
    "results = [{k: v for k, v in result.items() if k in ['doi', 'match', 'score', 'text']}\n",
    "           for result in response['results']]\n",
    "for n, r in enumerate(results):\n",
    "    r['n'] = n"
   ]
  },
  {
   "cell_type": "code",
   "execution_count": null,
   "metadata": {
    "collapsed": false,
    "scrolled": true
   },
   "outputs": [],
   "source": [
    "# Print results for which no DOI matched.\n",
    "\n",
    "# Add doi to result. It's fine if 'match' is still False.\n",
    "#results[12]['doi'] = \"http://dx.doi.org/\" + '10.1039/C4CP02091J'.lower()\n",
    "\n",
    "for r in results:\n",
    "    if not r['match']:\n",
    "        pprint(r)"
   ]
  },
  {
   "cell_type": "markdown",
   "metadata": {},
   "source": [
    "#### Add verified DOIs to stored set"
   ]
  },
  {
   "cell_type": "code",
   "execution_count": null,
   "metadata": {
    "collapsed": true
   },
   "outputs": [],
   "source": [
    "# Retrieve stored set of DOIs\n",
    "\n",
    "import os.path\n",
    "\n",
    "dois = set()\n",
    "\n",
    "fname = 'dois-{}.txt'.format(CITATION_SET)\n",
    "if os.path.isfile(fname):\n",
    "    with open(fname) as f:\n",
    "        dois = set([l.rstrip() for l in f.readlines()])"
   ]
  },
  {
   "cell_type": "code",
   "execution_count": null,
   "metadata": {
    "collapsed": false
   },
   "outputs": [],
   "source": [
    "# Add new DOIs\n",
    "dois.update(r['doi'] for r in results if 'doi' in r)"
   ]
  },
  {
   "cell_type": "code",
   "execution_count": null,
   "metadata": {
    "collapsed": false
   },
   "outputs": [],
   "source": [
    "# Persist back to file\n",
    "with open(fname, 'w') as f:\n",
    "    f.writelines([doi+'\\n' for doi in dois])"
   ]
  },
  {
   "cell_type": "markdown",
   "metadata": {},
   "source": [
    "#### Get and persist a page of properly-formatted citations for stored set of DOIs"
   ]
  },
  {
   "cell_type": "code",
   "execution_count": null,
   "metadata": {
    "collapsed": false
   },
   "outputs": [],
   "source": [
    "CITATION_STYLE = \"apa\" # https://github.com/citation-style-language/styles\n",
    "\n",
    "headers = {\"Accept\": \"text/x-bibliography; style={}\".format(CITATION_STYLE)}\n",
    "def fetch_citation(doi, headers={}):\n",
    "    return requests.get(doi, headers=headers)"
   ]
  },
  {
   "cell_type": "code",
   "execution_count": null,
   "metadata": {
    "collapsed": true
   },
   "outputs": [],
   "source": [
    "# Retrieve existing citations, which include DOIs\n",
    "\n",
    "import codecs\n",
    "\n",
    "citations = []\n",
    "fname = 'citations-{}-{}.txt'.format(CITATION_SET, CITATION_STYLE)\n",
    "if os.path.isfile(fname):\n",
    "    with codecs.open(fname, 'r', encoding='utf8') as f:\n",
    "        citations = [l.rstrip() for l in f.readlines() if 'doi' in l]"
   ]
  },
  {
   "cell_type": "code",
   "execution_count": null,
   "metadata": {
    "collapsed": false
   },
   "outputs": [],
   "source": [
    "# Ensure fetching of citations only for new DOIs\n",
    "\n",
    "import re\n",
    "\n",
    "matches = [re.search('doi:(\\S+)', c) for c in citations]\n",
    "dois_done = {'http://dx.doi.org/' + m.group(1) for m in matches if m}\n",
    "\n",
    "dois_to_fetch = list(dois - dois_done)\n",
    "print \"{} DOIs to fetch.\".format(len(dois_to_fetch))"
   ]
  },
  {
   "cell_type": "code",
   "execution_count": null,
   "metadata": {
    "collapsed": false
   },
   "outputs": [],
   "source": [
    "for n, doi in enumerate(dois_to_fetch):\n",
    "    print \"[{}/{}] Fetching {} citation for {}...\".format(\n",
    "        n+1, len(dois_to_fetch),CITATION_STYLE, doi)\n",
    "    r = fetch_citation(doi, headers=headers)\n",
    "    citations.append(r.text.encode(r.encoding).decode('utf8'))"
   ]
  },
  {
   "cell_type": "code",
   "execution_count": null,
   "metadata": {
    "collapsed": false
   },
   "outputs": [],
   "source": [
    "# Persist back to file, sorted by descending year\n",
    "\n",
    "def pub_year(citation):\n",
    "    m = re.search('[(\\s](\\d{4})[).,]', citation)\n",
    "    return m.group(1) if m else ''\n",
    "\n",
    "citations = sorted(citations, key=pub_year, reverse=True)\n",
    "\n",
    "with open(fname, 'w') as f:\n",
    "    f.writelines([c.encode('utf8') + '\\n\\n' for c in citations])"
   ]
  },
  {
   "cell_type": "markdown",
   "metadata": {},
   "source": [
    "#### [Optional] Make URLs for copy/paste of citation list into MediaWiki"
   ]
  },
  {
   "cell_type": "code",
   "execution_count": null,
   "metadata": {
    "collapsed": false
   },
   "outputs": [],
   "source": [
    "# Write to a .wiki file\n",
    "# Formats external links according to MediaWiki spec\n",
    "\n",
    "with codecs.open(fname, 'r', encoding='utf8') as f:\n",
    "    text = f.read()\n",
    "\n",
    "with_linked_dois = re.sub(r'(doi:(\\S+))', r'[http://dx.doi.org/\\2 \\1]', text)\n",
    "\n",
    "with codecs.open(fname + '.wiki', 'w', encoding='utf8') as f:\n",
    "    f.write(with_linked_dois)"
   ]
  }
 ],
 "metadata": {
  "kernelspec": {
   "display_name": "Python 2",
   "language": "python",
   "name": "python2"
  },
  "language_info": {
   "codemirror_mode": {
    "name": "ipython",
    "version": 2
   },
   "file_extension": ".py",
   "mimetype": "text/x-python",
   "name": "python",
   "nbconvert_exporter": "python",
   "pygments_lexer": "ipython2",
   "version": "2.7.8"
  }
 },
 "nbformat": 4,
 "nbformat_minor": 0
}
